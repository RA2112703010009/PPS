{
  "nbformat": 4,
  "nbformat_minor": 0,
  "metadata": {
    "colab": {
      "name": "Case Study in pandas(RA2112703010009).ipynb",
      "provenance": [],
      "collapsed_sections": [],
      "authorship_tag": "ABX9TyMpyeu+DXVuMnYyo+MpdJqu",
      "include_colab_link": true
    },
    "kernelspec": {
      "name": "python3",
      "display_name": "Python 3"
    },
    "language_info": {
      "name": "python"
    }
  },
  "cells": [
    {
      "cell_type": "markdown",
      "metadata": {
        "id": "view-in-github",
        "colab_type": "text"
      },
      "source": [
        "<a href=\"https://colab.research.google.com/github/RA2112703010009/PPS/blob/Operations-in-pandas/Case_Study_in_pandas(RA2112703010009).ipynb\" target=\"_parent\"><img src=\"https://colab.research.google.com/assets/colab-badge.svg\" alt=\"Open In Colab\"/></a>"
      ]
    },
    {
      "cell_type": "markdown",
      "source": [
        "##CASE STUDY BASED ON PANDAS\n",
        "\n",
        "\n"
      ],
      "metadata": {
        "id": "7RIC7cdUVQDj"
      }
    },
    {
      "cell_type": "markdown",
      "source": [
        "**Question No: 1 Mr. Ankit is working in an organisation as data analyst. He got a dataset of the passengers for the year 2010 to 2012 for January, March and December. His manager wants certain information from him, but he is facing some problems. Help him to create a dataframe using pandas with the give details and prints it shape.**\n",
        "\n",
        "\n",
        "![pic 1.png](data:image/png;base64,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)\n",
        "\n",
        "\n",
        "\n",
        "**Ans:**\n"
      ],
      "metadata": {
        "id": "qR9o5rNxW3Tq"
      }
    },
    {
      "cell_type": "code",
      "source": [
        "import pandas as pd\n",
        "data={\"Year\":[2010,2010,2012,2010,2012],\"Month\":[\"Jan\",\"Mar\",\"Jan\",\"Dec\",\"Dec\"],\"Passengers\":[25,50,35,55,65]}\n",
        "obj=pd.DataFrame(data)\n",
        "print(obj)\n",
        "print(obj.shape)\n"
      ],
      "metadata": {
        "colab": {
          "base_uri": "https://localhost:8080/"
        },
        "id": "l9owjHUcXLaS",
        "outputId": "1193de94-ddad-43dd-88c8-d8718f0e8006"
      },
      "execution_count": null,
      "outputs": [
        {
          "output_type": "stream",
          "name": "stdout",
          "text": [
            "   Year Month  Passengers\n",
            "0  2010   Jan          25\n",
            "1  2010   Mar          50\n",
            "2  2012   Jan          35\n",
            "3  2010   Dec          55\n",
            "4  2012   Dec          65\n",
            "(5, 3)\n"
          ]
        }
      ]
    },
    {
      "cell_type": "markdown",
      "source": [
        " **i)He wants to print the details of \"January\" month along with the\n",
        "number of passengers. Write the required statment?**\n",
        "\n",
        "![image.png](data:image/png;base64,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)\n",
        "\n",
        "\n",
        "**Ans:**"
      ],
      "metadata": {
        "id": "IupTsbm_Zbv1"
      }
    },
    {
      "cell_type": "code",
      "source": [
        "obj[['Month','Passengers']][obj['Month']=='Jan']"
      ],
      "metadata": {
        "colab": {
          "base_uri": "https://localhost:8080/",
          "height": 112
        },
        "id": "_zw5hH-ncxL7",
        "outputId": "fc93027b-f25e-4b16-d28c-cc9030604e64"
      },
      "execution_count": null,
      "outputs": [
        {
          "output_type": "execute_result",
          "data": {
            "text/html": [
              "\n",
              "  <div id=\"df-4c9f2a14-2138-4508-b096-d0488ee057b3\">\n",
              "    <div class=\"colab-df-container\">\n",
              "      <div>\n",
              "<style scoped>\n",
              "    .dataframe tbody tr th:only-of-type {\n",
              "        vertical-align: middle;\n",
              "    }\n",
              "\n",
              "    .dataframe tbody tr th {\n",
              "        vertical-align: top;\n",
              "    }\n",
              "\n",
              "    .dataframe thead th {\n",
              "        text-align: right;\n",
              "    }\n",
              "</style>\n",
              "<table border=\"1\" class=\"dataframe\">\n",
              "  <thead>\n",
              "    <tr style=\"text-align: right;\">\n",
              "      <th></th>\n",
              "      <th>Month</th>\n",
              "      <th>Passengers</th>\n",
              "    </tr>\n",
              "  </thead>\n",
              "  <tbody>\n",
              "    <tr>\n",
              "      <th>0</th>\n",
              "      <td>Jan</td>\n",
              "      <td>25</td>\n",
              "    </tr>\n",
              "    <tr>\n",
              "      <th>2</th>\n",
              "      <td>Jan</td>\n",
              "      <td>35</td>\n",
              "    </tr>\n",
              "  </tbody>\n",
              "</table>\n",
              "</div>\n",
              "      <button class=\"colab-df-convert\" onclick=\"convertToInteractive('df-4c9f2a14-2138-4508-b096-d0488ee057b3')\"\n",
              "              title=\"Convert this dataframe to an interactive table.\"\n",
              "              style=\"display:none;\">\n",
              "        \n",
              "  <svg xmlns=\"http://www.w3.org/2000/svg\" height=\"24px\"viewBox=\"0 0 24 24\"\n",
              "       width=\"24px\">\n",
              "    <path d=\"M0 0h24v24H0V0z\" fill=\"none\"/>\n",
              "    <path d=\"M18.56 5.44l.94 2.06.94-2.06 2.06-.94-2.06-.94-.94-2.06-.94 2.06-2.06.94zm-11 1L8.5 8.5l.94-2.06 2.06-.94-2.06-.94L8.5 2.5l-.94 2.06-2.06.94zm10 10l.94 2.06.94-2.06 2.06-.94-2.06-.94-.94-2.06-.94 2.06-2.06.94z\"/><path d=\"M17.41 7.96l-1.37-1.37c-.4-.4-.92-.59-1.43-.59-.52 0-1.04.2-1.43.59L10.3 9.45l-7.72 7.72c-.78.78-.78 2.05 0 2.83L4 21.41c.39.39.9.59 1.41.59.51 0 1.02-.2 1.41-.59l7.78-7.78 2.81-2.81c.8-.78.8-2.07 0-2.86zM5.41 20L4 18.59l7.72-7.72 1.47 1.35L5.41 20z\"/>\n",
              "  </svg>\n",
              "      </button>\n",
              "      \n",
              "  <style>\n",
              "    .colab-df-container {\n",
              "      display:flex;\n",
              "      flex-wrap:wrap;\n",
              "      gap: 12px;\n",
              "    }\n",
              "\n",
              "    .colab-df-convert {\n",
              "      background-color: #E8F0FE;\n",
              "      border: none;\n",
              "      border-radius: 50%;\n",
              "      cursor: pointer;\n",
              "      display: none;\n",
              "      fill: #1967D2;\n",
              "      height: 32px;\n",
              "      padding: 0 0 0 0;\n",
              "      width: 32px;\n",
              "    }\n",
              "\n",
              "    .colab-df-convert:hover {\n",
              "      background-color: #E2EBFA;\n",
              "      box-shadow: 0px 1px 2px rgba(60, 64, 67, 0.3), 0px 1px 3px 1px rgba(60, 64, 67, 0.15);\n",
              "      fill: #174EA6;\n",
              "    }\n",
              "\n",
              "    [theme=dark] .colab-df-convert {\n",
              "      background-color: #3B4455;\n",
              "      fill: #D2E3FC;\n",
              "    }\n",
              "\n",
              "    [theme=dark] .colab-df-convert:hover {\n",
              "      background-color: #434B5C;\n",
              "      box-shadow: 0px 1px 3px 1px rgba(0, 0, 0, 0.15);\n",
              "      filter: drop-shadow(0px 1px 2px rgba(0, 0, 0, 0.3));\n",
              "      fill: #FFFFFF;\n",
              "    }\n",
              "  </style>\n",
              "\n",
              "      <script>\n",
              "        const buttonEl =\n",
              "          document.querySelector('#df-4c9f2a14-2138-4508-b096-d0488ee057b3 button.colab-df-convert');\n",
              "        buttonEl.style.display =\n",
              "          google.colab.kernel.accessAllowed ? 'block' : 'none';\n",
              "\n",
              "        async function convertToInteractive(key) {\n",
              "          const element = document.querySelector('#df-4c9f2a14-2138-4508-b096-d0488ee057b3');\n",
              "          const dataTable =\n",
              "            await google.colab.kernel.invokeFunction('convertToInteractive',\n",
              "                                                     [key], {});\n",
              "          if (!dataTable) return;\n",
              "\n",
              "          const docLinkHtml = 'Like what you see? Visit the ' +\n",
              "            '<a target=\"_blank\" href=https://colab.research.google.com/notebooks/data_table.ipynb>data table notebook</a>'\n",
              "            + ' to learn more about interactive tables.';\n",
              "          element.innerHTML = '';\n",
              "          dataTable['output_type'] = 'display_data';\n",
              "          await google.colab.output.renderOutput(dataTable, element);\n",
              "          const docLink = document.createElement('div');\n",
              "          docLink.innerHTML = docLinkHtml;\n",
              "          element.appendChild(docLink);\n",
              "        }\n",
              "      </script>\n",
              "    </div>\n",
              "  </div>\n",
              "  "
            ],
            "text/plain": [
              "  Month  Passengers\n",
              "0   Jan          25\n",
              "2   Jan          35"
            ]
          },
          "metadata": {},
          "execution_count": 4
        }
      ]
    },
    {
      "cell_type": "markdown",
      "source": [
        "**ii) Mr. Ankit wants to change the index of the Data Frame and the output for the same is given below. Write the required statement?**\n",
        "\n",
        "![image.png](data:image/png;base64,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)\n",
        "\n",
        "\n",
        "**Ans:**"
      ],
      "metadata": {
        "id": "3yWDsWR2dhpk"
      }
    },
    {
      "cell_type": "code",
      "source": [
        "obj.index=[\"Air India\",\"Indigo\",\"Spicejet\",\"Jet\",\"Emirates\"]\n",
        "print(obj)"
      ],
      "metadata": {
        "colab": {
          "base_uri": "https://localhost:8080/"
        },
        "id": "vsG9ienXev6Z",
        "outputId": "413e1b1b-7ae4-4be5-eb00-1cd7fa01fc25"
      },
      "execution_count": null,
      "outputs": [
        {
          "output_type": "stream",
          "name": "stdout",
          "text": [
            "           Year Month  Passengers\n",
            "Air India  2010   Jan          25\n",
            "Indigo     2010   Mar          50\n",
            "Spicejet   2012   Jan          35\n",
            "Jet        2010   Dec          55\n",
            "Emirates   2012   Dec          65\n"
          ]
        }
      ]
    },
    {
      "cell_type": "markdown",
      "source": [
        "**Question No: 2. HR Department of ABCTech has created following dataframe to store data about salaries and bonus paid to their employees.**\n",
        "\n"
      ],
      "metadata": {
        "id": "BdG8WSGWfJ0q"
      }
    },
    {
      "cell_type": "code",
      "source": [
        "import pandas as pd\n",
        "import numpy as np\n",
        "d1={'EName':[ 'Kavita', 'Sudha', 'Garima'],'Sal':[50000,60000,55000],'Bonus':[3000,4000,5000]}\n",
        "Df1=pd.DataFrame(d1)\n",
        "print(Df1)"
      ],
      "metadata": {
        "colab": {
          "base_uri": "https://localhost:8080/"
        },
        "id": "41LA39Ldhqi4",
        "outputId": "71093c72-72f0-4800-a749-3b474803d70f"
      },
      "execution_count": null,
      "outputs": [
        {
          "output_type": "stream",
          "name": "stdout",
          "text": [
            "    EName    Sal  Bonus\n",
            "0  Kavita  50000   3000\n",
            "1   Sudha  60000   4000\n",
            "2  Garima  55000   5000\n"
          ]
        }
      ]
    },
    {
      "cell_type": "markdown",
      "source": [
        "**i) Display the columns Sal and Bonus.**\n",
        "\n",
        "\n",
        "**Ans:**"
      ],
      "metadata": {
        "id": "iOW9Z607h4NI"
      }
    },
    {
      "cell_type": "code",
      "source": [
        "Df1.loc(['Sal','Bonus'])"
      ],
      "metadata": {
        "id": "dEJTD4eKiA5B"
      },
      "execution_count": null,
      "outputs": []
    },
    {
      "cell_type": "markdown",
      "source": [
        "**ii) Display the details of employee Kavita.**\n",
        "\n",
        "**Ans:**"
      ],
      "metadata": {
        "id": "hOwvT2-TkjmH"
      }
    },
    {
      "cell_type": "code",
      "source": [
        "Df1.loc[df1.EName=='Kavita']"
      ],
      "metadata": {
        "id": "ChiWvMW_k5Mm"
      },
      "execution_count": null,
      "outputs": []
    },
    {
      "cell_type": "markdown",
      "source": [
        "**iii) Display the details of the last employee.**\n",
        "\n",
        "**Ans:**"
      ],
      "metadata": {
        "id": "R3oUR59kk9iZ"
      }
    },
    {
      "cell_type": "code",
      "source": [
        "Df1.tail(1)"
      ],
      "metadata": {
        "colab": {
          "base_uri": "https://localhost:8080/",
          "height": 81
        },
        "id": "AvOiaCj0lFie",
        "outputId": "4f88f9db-6a80-4c98-d9f5-72ee7180629a"
      },
      "execution_count": null,
      "outputs": [
        {
          "output_type": "execute_result",
          "data": {
            "text/html": [
              "\n",
              "  <div id=\"df-0992cfa9-4f71-4202-88b9-237d77d11224\">\n",
              "    <div class=\"colab-df-container\">\n",
              "      <div>\n",
              "<style scoped>\n",
              "    .dataframe tbody tr th:only-of-type {\n",
              "        vertical-align: middle;\n",
              "    }\n",
              "\n",
              "    .dataframe tbody tr th {\n",
              "        vertical-align: top;\n",
              "    }\n",
              "\n",
              "    .dataframe thead th {\n",
              "        text-align: right;\n",
              "    }\n",
              "</style>\n",
              "<table border=\"1\" class=\"dataframe\">\n",
              "  <thead>\n",
              "    <tr style=\"text-align: right;\">\n",
              "      <th></th>\n",
              "      <th>EName</th>\n",
              "      <th>Sal</th>\n",
              "      <th>Bonus</th>\n",
              "    </tr>\n",
              "  </thead>\n",
              "  <tbody>\n",
              "    <tr>\n",
              "      <th>2</th>\n",
              "      <td>Garima</td>\n",
              "      <td>55000</td>\n",
              "      <td>5000</td>\n",
              "    </tr>\n",
              "  </tbody>\n",
              "</table>\n",
              "</div>\n",
              "      <button class=\"colab-df-convert\" onclick=\"convertToInteractive('df-0992cfa9-4f71-4202-88b9-237d77d11224')\"\n",
              "              title=\"Convert this dataframe to an interactive table.\"\n",
              "              style=\"display:none;\">\n",
              "        \n",
              "  <svg xmlns=\"http://www.w3.org/2000/svg\" height=\"24px\"viewBox=\"0 0 24 24\"\n",
              "       width=\"24px\">\n",
              "    <path d=\"M0 0h24v24H0V0z\" fill=\"none\"/>\n",
              "    <path d=\"M18.56 5.44l.94 2.06.94-2.06 2.06-.94-2.06-.94-.94-2.06-.94 2.06-2.06.94zm-11 1L8.5 8.5l.94-2.06 2.06-.94-2.06-.94L8.5 2.5l-.94 2.06-2.06.94zm10 10l.94 2.06.94-2.06 2.06-.94-2.06-.94-.94-2.06-.94 2.06-2.06.94z\"/><path d=\"M17.41 7.96l-1.37-1.37c-.4-.4-.92-.59-1.43-.59-.52 0-1.04.2-1.43.59L10.3 9.45l-7.72 7.72c-.78.78-.78 2.05 0 2.83L4 21.41c.39.39.9.59 1.41.59.51 0 1.02-.2 1.41-.59l7.78-7.78 2.81-2.81c.8-.78.8-2.07 0-2.86zM5.41 20L4 18.59l7.72-7.72 1.47 1.35L5.41 20z\"/>\n",
              "  </svg>\n",
              "      </button>\n",
              "      \n",
              "  <style>\n",
              "    .colab-df-container {\n",
              "      display:flex;\n",
              "      flex-wrap:wrap;\n",
              "      gap: 12px;\n",
              "    }\n",
              "\n",
              "    .colab-df-convert {\n",
              "      background-color: #E8F0FE;\n",
              "      border: none;\n",
              "      border-radius: 50%;\n",
              "      cursor: pointer;\n",
              "      display: none;\n",
              "      fill: #1967D2;\n",
              "      height: 32px;\n",
              "      padding: 0 0 0 0;\n",
              "      width: 32px;\n",
              "    }\n",
              "\n",
              "    .colab-df-convert:hover {\n",
              "      background-color: #E2EBFA;\n",
              "      box-shadow: 0px 1px 2px rgba(60, 64, 67, 0.3), 0px 1px 3px 1px rgba(60, 64, 67, 0.15);\n",
              "      fill: #174EA6;\n",
              "    }\n",
              "\n",
              "    [theme=dark] .colab-df-convert {\n",
              "      background-color: #3B4455;\n",
              "      fill: #D2E3FC;\n",
              "    }\n",
              "\n",
              "    [theme=dark] .colab-df-convert:hover {\n",
              "      background-color: #434B5C;\n",
              "      box-shadow: 0px 1px 3px 1px rgba(0, 0, 0, 0.15);\n",
              "      filter: drop-shadow(0px 1px 2px rgba(0, 0, 0, 0.3));\n",
              "      fill: #FFFFFF;\n",
              "    }\n",
              "  </style>\n",
              "\n",
              "      <script>\n",
              "        const buttonEl =\n",
              "          document.querySelector('#df-0992cfa9-4f71-4202-88b9-237d77d11224 button.colab-df-convert');\n",
              "        buttonEl.style.display =\n",
              "          google.colab.kernel.accessAllowed ? 'block' : 'none';\n",
              "\n",
              "        async function convertToInteractive(key) {\n",
              "          const element = document.querySelector('#df-0992cfa9-4f71-4202-88b9-237d77d11224');\n",
              "          const dataTable =\n",
              "            await google.colab.kernel.invokeFunction('convertToInteractive',\n",
              "                                                     [key], {});\n",
              "          if (!dataTable) return;\n",
              "\n",
              "          const docLinkHtml = 'Like what you see? Visit the ' +\n",
              "            '<a target=\"_blank\" href=https://colab.research.google.com/notebooks/data_table.ipynb>data table notebook</a>'\n",
              "            + ' to learn more about interactive tables.';\n",
              "          element.innerHTML = '';\n",
              "          dataTable['output_type'] = 'display_data';\n",
              "          await google.colab.output.renderOutput(dataTable, element);\n",
              "          const docLink = document.createElement('div');\n",
              "          docLink.innerHTML = docLinkHtml;\n",
              "          element.appendChild(docLink);\n",
              "        }\n",
              "      </script>\n",
              "    </div>\n",
              "  </div>\n",
              "  "
            ],
            "text/plain": [
              "    EName    Sal  Bonus\n",
              "2  Garima  55000   5000"
            ]
          },
          "metadata": {},
          "execution_count": 22
        }
      ]
    },
    {
      "cell_type": "markdown",
      "source": [
        "**iv) Add a new column named ‘Email’ with the value “abc@gmail.com”.**\n",
        "\n",
        "**Ans:**"
      ],
      "metadata": {
        "id": "PJSFtPvMlNPw"
      }
    },
    {
      "cell_type": "code",
      "source": [
        "Df1['Email']= 'abc@gmail.com'\n",
        "print(Df1)"
      ],
      "metadata": {
        "colab": {
          "base_uri": "https://localhost:8080/"
        },
        "id": "unx91KGQlZwD",
        "outputId": "615d9981-0996-4347-ff57-59763c23f57c"
      },
      "execution_count": null,
      "outputs": [
        {
          "output_type": "stream",
          "name": "stdout",
          "text": [
            "    EName    Sal  Bonus          Email\n",
            "0  Kavita  50000   3000  abc@gmail.com\n",
            "1   Sudha  60000   4000  abc@gmail.com\n",
            "2  Garima  55000   5000  abc@gmail.com\n"
          ]
        }
      ]
    },
    {
      "cell_type": "markdown",
      "source": [
        "**v) Write a python statement to print the details of employees having Sal more than 50000**\n",
        "\n",
        "**Ans:**"
      ],
      "metadata": {
        "id": "BYtTTsOflpa9"
      }
    },
    {
      "cell_type": "code",
      "source": [
        "Df1[Df1.Sal>=5000]"
      ],
      "metadata": {
        "colab": {
          "base_uri": "https://localhost:8080/",
          "height": 143
        },
        "id": "BIiazwbnmRP3",
        "outputId": "317602da-96b7-4e5d-96e0-13d07c40b46a"
      },
      "execution_count": null,
      "outputs": [
        {
          "output_type": "execute_result",
          "data": {
            "text/html": [
              "\n",
              "  <div id=\"df-80b5eed6-7329-43af-af9a-4d0bc7f018f3\">\n",
              "    <div class=\"colab-df-container\">\n",
              "      <div>\n",
              "<style scoped>\n",
              "    .dataframe tbody tr th:only-of-type {\n",
              "        vertical-align: middle;\n",
              "    }\n",
              "\n",
              "    .dataframe tbody tr th {\n",
              "        vertical-align: top;\n",
              "    }\n",
              "\n",
              "    .dataframe thead th {\n",
              "        text-align: right;\n",
              "    }\n",
              "</style>\n",
              "<table border=\"1\" class=\"dataframe\">\n",
              "  <thead>\n",
              "    <tr style=\"text-align: right;\">\n",
              "      <th></th>\n",
              "      <th>EName</th>\n",
              "      <th>Sal</th>\n",
              "      <th>Bonus</th>\n",
              "      <th>Email</th>\n",
              "    </tr>\n",
              "  </thead>\n",
              "  <tbody>\n",
              "    <tr>\n",
              "      <th>0</th>\n",
              "      <td>Kavita</td>\n",
              "      <td>50000</td>\n",
              "      <td>3000</td>\n",
              "      <td>abc@gmail.com</td>\n",
              "    </tr>\n",
              "    <tr>\n",
              "      <th>1</th>\n",
              "      <td>Sudha</td>\n",
              "      <td>60000</td>\n",
              "      <td>4000</td>\n",
              "      <td>abc@gmail.com</td>\n",
              "    </tr>\n",
              "    <tr>\n",
              "      <th>2</th>\n",
              "      <td>Garima</td>\n",
              "      <td>55000</td>\n",
              "      <td>5000</td>\n",
              "      <td>abc@gmail.com</td>\n",
              "    </tr>\n",
              "  </tbody>\n",
              "</table>\n",
              "</div>\n",
              "      <button class=\"colab-df-convert\" onclick=\"convertToInteractive('df-80b5eed6-7329-43af-af9a-4d0bc7f018f3')\"\n",
              "              title=\"Convert this dataframe to an interactive table.\"\n",
              "              style=\"display:none;\">\n",
              "        \n",
              "  <svg xmlns=\"http://www.w3.org/2000/svg\" height=\"24px\"viewBox=\"0 0 24 24\"\n",
              "       width=\"24px\">\n",
              "    <path d=\"M0 0h24v24H0V0z\" fill=\"none\"/>\n",
              "    <path d=\"M18.56 5.44l.94 2.06.94-2.06 2.06-.94-2.06-.94-.94-2.06-.94 2.06-2.06.94zm-11 1L8.5 8.5l.94-2.06 2.06-.94-2.06-.94L8.5 2.5l-.94 2.06-2.06.94zm10 10l.94 2.06.94-2.06 2.06-.94-2.06-.94-.94-2.06-.94 2.06-2.06.94z\"/><path d=\"M17.41 7.96l-1.37-1.37c-.4-.4-.92-.59-1.43-.59-.52 0-1.04.2-1.43.59L10.3 9.45l-7.72 7.72c-.78.78-.78 2.05 0 2.83L4 21.41c.39.39.9.59 1.41.59.51 0 1.02-.2 1.41-.59l7.78-7.78 2.81-2.81c.8-.78.8-2.07 0-2.86zM5.41 20L4 18.59l7.72-7.72 1.47 1.35L5.41 20z\"/>\n",
              "  </svg>\n",
              "      </button>\n",
              "      \n",
              "  <style>\n",
              "    .colab-df-container {\n",
              "      display:flex;\n",
              "      flex-wrap:wrap;\n",
              "      gap: 12px;\n",
              "    }\n",
              "\n",
              "    .colab-df-convert {\n",
              "      background-color: #E8F0FE;\n",
              "      border: none;\n",
              "      border-radius: 50%;\n",
              "      cursor: pointer;\n",
              "      display: none;\n",
              "      fill: #1967D2;\n",
              "      height: 32px;\n",
              "      padding: 0 0 0 0;\n",
              "      width: 32px;\n",
              "    }\n",
              "\n",
              "    .colab-df-convert:hover {\n",
              "      background-color: #E2EBFA;\n",
              "      box-shadow: 0px 1px 2px rgba(60, 64, 67, 0.3), 0px 1px 3px 1px rgba(60, 64, 67, 0.15);\n",
              "      fill: #174EA6;\n",
              "    }\n",
              "\n",
              "    [theme=dark] .colab-df-convert {\n",
              "      background-color: #3B4455;\n",
              "      fill: #D2E3FC;\n",
              "    }\n",
              "\n",
              "    [theme=dark] .colab-df-convert:hover {\n",
              "      background-color: #434B5C;\n",
              "      box-shadow: 0px 1px 3px 1px rgba(0, 0, 0, 0.15);\n",
              "      filter: drop-shadow(0px 1px 2px rgba(0, 0, 0, 0.3));\n",
              "      fill: #FFFFFF;\n",
              "    }\n",
              "  </style>\n",
              "\n",
              "      <script>\n",
              "        const buttonEl =\n",
              "          document.querySelector('#df-80b5eed6-7329-43af-af9a-4d0bc7f018f3 button.colab-df-convert');\n",
              "        buttonEl.style.display =\n",
              "          google.colab.kernel.accessAllowed ? 'block' : 'none';\n",
              "\n",
              "        async function convertToInteractive(key) {\n",
              "          const element = document.querySelector('#df-80b5eed6-7329-43af-af9a-4d0bc7f018f3');\n",
              "          const dataTable =\n",
              "            await google.colab.kernel.invokeFunction('convertToInteractive',\n",
              "                                                     [key], {});\n",
              "          if (!dataTable) return;\n",
              "\n",
              "          const docLinkHtml = 'Like what you see? Visit the ' +\n",
              "            '<a target=\"_blank\" href=https://colab.research.google.com/notebooks/data_table.ipynb>data table notebook</a>'\n",
              "            + ' to learn more about interactive tables.';\n",
              "          element.innerHTML = '';\n",
              "          dataTable['output_type'] = 'display_data';\n",
              "          await google.colab.output.renderOutput(dataTable, element);\n",
              "          const docLink = document.createElement('div');\n",
              "          docLink.innerHTML = docLinkHtml;\n",
              "          element.appendChild(docLink);\n",
              "        }\n",
              "      </script>\n",
              "    </div>\n",
              "  </div>\n",
              "  "
            ],
            "text/plain": [
              "    EName    Sal  Bonus          Email\n",
              "0  Kavita  50000   3000  abc@gmail.com\n",
              "1   Sudha  60000   4000  abc@gmail.com\n",
              "2  Garima  55000   5000  abc@gmail.com"
            ]
          },
          "metadata": {},
          "execution_count": 27
        }
      ]
    }
  ]
}