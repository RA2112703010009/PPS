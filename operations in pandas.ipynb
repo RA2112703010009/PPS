{
  "nbformat": 4,
  "nbformat_minor": 0,
  "metadata": {
    "colab": {
      "name": "Untitled1.ipynb",
      "provenance": [],
      "authorship_tag": "ABX9TyMaiecqJ5Me6Y7Xl6IY7Dq0",
      "include_colab_link": true
    },
    "kernelspec": {
      "name": "python3",
      "display_name": "Python 3"
    },
    "language_info": {
      "name": "python"
    }
  },
  "cells": [
    {
      "cell_type": "markdown",
      "metadata": {
        "id": "view-in-github",
        "colab_type": "text"
      },
      "source": [
        "<a href=\"https://colab.research.google.com/github/RA2112703010009/PPS/blob/Operations-in-pandas/operations%20in%20pandas.ipynb\" target=\"_parent\"><img src=\"https://colab.research.google.com/assets/colab-badge.svg\" alt=\"Open In Colab\"/></a>"
      ]
    },
    {
      "cell_type": "markdown",
      "source": [
        "Operations in pandas"
      ],
      "metadata": {
        "id": "3sl9_pCJewEv"
      }
    },
    {
      "cell_type": "markdown",
      "source": [
        "1. Creating a dataframe using **List**"
      ],
      "metadata": {
        "id": "iebOoXuAf-9W"
      }
    },
    {
      "cell_type": "code",
      "source": [
        "\n",
        "import pandas as pd\n",
        " \n",
        "fruits = ['apple', 'orange', 'grape', 'watermelon', \n",
        "            'mango', 'pineapple', 'strawberry']\n",
        " \n",
        "df = pd.DataFrame(fruits)\n",
        "print(df)"
      ],
      "metadata": {
        "colab": {
          "base_uri": "https://localhost:8080/"
        },
        "id": "paJQg6z-f8R2",
        "outputId": "e389aa70-16bb-493f-dfce-fbb65f16a0a3"
      },
      "execution_count": 1,
      "outputs": [
        {
          "output_type": "stream",
          "name": "stdout",
          "text": [
            "            0\n",
            "0       apple\n",
            "1      orange\n",
            "2       grape\n",
            "3  watermelon\n",
            "4       mango\n",
            "5   pineapple\n",
            "6  strawberry\n"
          ]
        }
      ]
    },
    {
      "cell_type": "markdown",
      "source": [
        "2. Creating DataFrame from dict of ndarray/lists"
      ],
      "metadata": {
        "id": "58FroY_ihEOo"
      }
    },
    {
      "cell_type": "code",
      "source": [
        " \n",
        "import pandas as pd\n",
        " \n",
        "data = {'Name':['Tom', 'nick', 'krish', 'jack'],\n",
        "        'Age':[20, 21, 19, 18]}\n",
        "\n",
        "df = pd.DataFrame(data)\n",
        "print(df)"
      ],
      "metadata": {
        "colab": {
          "base_uri": "https://localhost:8080/"
        },
        "id": "0zZ0E2bFhKVp",
        "outputId": "44b60668-53f2-4415-b597-9cc36ac7364d"
      },
      "execution_count": 2,
      "outputs": [
        {
          "output_type": "stream",
          "name": "stdout",
          "text": [
            "    Name  Age\n",
            "0    Tom   20\n",
            "1   nick   21\n",
            "2  krish   19\n",
            "3   jack   18\n"
          ]
        }
      ]
    },
    {
      "cell_type": "markdown",
      "source": [
        ""
      ],
      "metadata": {
        "id": "cQkrlsxIhjU5"
      }
    }
  ]
}